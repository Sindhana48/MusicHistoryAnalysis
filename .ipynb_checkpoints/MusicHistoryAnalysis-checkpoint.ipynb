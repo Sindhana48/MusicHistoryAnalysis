{
 "cells": [
  {
   "cell_type": "code",
   "execution_count": 24,
   "metadata": {},
   "outputs": [],
   "source": [
    "import json\n",
    "import itertools"
   ]
  },
  {
   "cell_type": "code",
   "execution_count": 25,
   "metadata": {},
   "outputs": [],
   "source": [
    "def read_json_file(filename):\n",
    "    try:\n",
    "        with open(filename) as access_json:\n",
    "            read_content = json.load(access_json)\n",
    "        \n",
    "        return read_content\n",
    "    except:\n",
    "        print(\"File not present. Give correct name and path\")\n",
    "    "
   ]
  },
  {
   "cell_type": "code",
   "execution_count": 35,
   "metadata": {},
   "outputs": [],
   "source": [
    "def top_10_songs(read_content):\n",
    "    songs_dict = {}\n",
    "    for song in read_content:\n",
    "    #print (song['title'])\n",
    "        song_title = song['title'].replace(\"Watched \",\"\")\n",
    "        songs_dict[song_title] = songs_dict.get(song_title,0)+1\n",
    "    value_key_pairs = ((value, key) for (key,value) in songs_dict.items())\n",
    "    sorted_value_key_pairs = sorted(value_key_pairs, reverse=True)\n",
    "    \n",
    "    top_10_list = []\n",
    "    for i in range(0,10):\n",
    "        top_10_list.append(sorted_value_key_pairs[:10][i][1])\n",
    "    \n",
    "    return top_10_list\n",
    "    "
   ]
  },
  {
   "cell_type": "code",
   "execution_count": 36,
   "metadata": {},
   "outputs": [],
   "source": [
    "read_content = read_json_file('new.json')\n",
    "top_songs = top_10_songs(read_content)"
   ]
  },
  {
   "cell_type": "code",
   "execution_count": 37,
   "metadata": {},
   "outputs": [
    {
     "data": {
      "text/plain": [
       "['Motion Sickness',\n",
       " 'Paprika',\n",
       " 'Be Sweet',\n",
       " 'Kyoto',\n",
       " 'Faith Healer',\n",
       " 'Ringside',\n",
       " 'Hardline',\n",
       " 'BUZZCUT',\n",
       " 'This Life',\n",
       " 'Valentine']"
      ]
     },
     "execution_count": 37,
     "metadata": {},
     "output_type": "execute_result"
    }
   ],
   "source": [
    "top_songs"
   ]
  },
  {
   "cell_type": "code",
   "execution_count": 38,
   "metadata": {},
   "outputs": [],
   "source": [
    "def least_popular(read_content):\n",
    "    songs_dict = {}\n",
    "    for song in read_content:\n",
    "    #print (song['title'])\n",
    "        song_title = song['title'].replace(\"Watched \",\"\")\n",
    "        songs_dict[song_title] = songs_dict.get(song_title,0)+1\n",
    "    value_key_pairs = ((value, key) for (key,value) in songs_dict.items())\n",
    "    sorted_value_key_pairs = sorted(value_key_pairs)\n",
    "    \n",
    "    least_popular = []\n",
    "    for i in range(0,10):\n",
    "        least_popular.append(sorted_value_key_pairs[:10][i][1])\n",
    "    \n",
    "    return least_popular"
   ]
  },
  {
   "cell_type": "code",
   "execution_count": 39,
   "metadata": {},
   "outputs": [],
   "source": [
    "least_popular = least_popular(read_content)"
   ]
  },
  {
   "cell_type": "code",
   "execution_count": 40,
   "metadata": {},
   "outputs": [
    {
     "data": {
      "text/plain": [
       "['\"Out There\" from The Hunchback of Notre Dame\\nat The 5th Avenue Theatre',\n",
       " '\"The Take Over, The Breaks Over\"',\n",
       " '#SELFIE',\n",
       " '& Run',\n",
       " \"'06\",\n",
       " \"'Cause I'm A Man\",\n",
       " '***HIDDEN TRACK***',\n",
       " '00000 Million',\n",
       " '1 step forward, 3 steps back',\n",
       " '10,000 Hours']"
      ]
     },
     "execution_count": 40,
     "metadata": {},
     "output_type": "execute_result"
    }
   ],
   "source": [
    "least_popular"
   ]
  },
  {
   "cell_type": "code",
   "execution_count": null,
   "metadata": {},
   "outputs": [],
   "source": []
  }
 ],
 "metadata": {
  "kernelspec": {
   "display_name": "Python 3",
   "language": "python",
   "name": "python3"
  },
  "language_info": {
   "codemirror_mode": {
    "name": "ipython",
    "version": 3
   },
   "file_extension": ".py",
   "mimetype": "text/x-python",
   "name": "python",
   "nbconvert_exporter": "python",
   "pygments_lexer": "ipython3",
   "version": "3.8.5"
  }
 },
 "nbformat": 4,
 "nbformat_minor": 4
}
